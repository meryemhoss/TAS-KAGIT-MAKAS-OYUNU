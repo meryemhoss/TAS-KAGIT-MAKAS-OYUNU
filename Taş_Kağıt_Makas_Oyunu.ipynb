{
  "nbformat": 4,
  "nbformat_minor": 0,
  "metadata": {
    "colab": {
      "provenance": []
    },
    "kernelspec": {
      "name": "python3",
      "display_name": "Python 3"
    },
    "language_info": {
      "name": "python"
    }
  },
  "cells": [
    {
      "cell_type": "code",
      "execution_count": 3,
      "metadata": {
        "colab": {
          "base_uri": "https://localhost:8080/",
          "height": 1000
        },
        "id": "KMmw1d4rg-Td",
        "outputId": "949725f0-4313-44ce-ac51-48fff23321bd"
      },
      "outputs": [
        {
          "output_type": "display_data",
          "data": {
            "text/plain": [
              "<IPython.core.display.HTML object>"
            ],
            "text/html": [
              "<b><p style=\"color: Green;\"> TAŞ KAĞIT MAKAS OYUNUNA HOŞ GELDİNİZ!  </br>\n",
              "Oyun:</br>\n",
              "# Oyunumuz bilgisayara karşı oynanmaktadır.(Bilgisayar - Oyuncu) </br>\n",
              "# Temel olarak seçebileceğiniz 3 tane seçenek bulunmaktadır.(Taş,Kağıt,Makas) </br>\n",
              "# Oyunumuzun kuralı oldukça basittir;</br> Taş makası yener, Makas kağıdı yener, Kağıt taşı yener.</br>\n",
              "# Eğer bilgisayar ve oyuncu  aynı seçeneği seçerse durum berabere olacak ve herhangi bir sayı alamayacaklardır. </br>\n",
              "# Oyuncu oyundan çıkış yapmak isterse 'ÇIKIŞ' yazmalıdır.</br>\n",
              "# İlk iki turu kazanan oyunu kazanır.</br>\n",
              "# Oyun bittiğinde oyuncuların ikisine de oyuna devam edip etmeyeceği sorulacak ve ikisinde onaylaması durumunda oyun oynanmaya devam edecektir.</p></b>"
            ]
          },
          "metadata": {}
        },
        {
          "output_type": "stream",
          "name": "stdout",
          "text": [
            "None\n"
          ]
        },
        {
          "output_type": "display_data",
          "data": {
            "text/plain": [
              "<IPython.core.display.HTML object>"
            ],
            "text/html": [
              "<b><p style=\"color: orange ;\"> Seçenekler: ['TAŞ', 'KAĞIT', 'MAKAS']</p></b>"
            ]
          },
          "metadata": {}
        },
        {
          "output_type": "stream",
          "name": "stdout",
          "text": [
            "\n",
            "  None\n",
            "\n",
            " 1.tur\n"
          ]
        },
        {
          "output_type": "display_data",
          "data": {
            "text/plain": [
              "<IPython.core.display.HTML object>"
            ],
            "text/html": [
              "<b><p style=\"color: skyBlue;\">\n",
              " Lütfen seçiminizi giriniz(TAŞ-KAĞIT-MAKAS) veya çıkmak için 'ÇIKIŞ': </p></b>"
            ]
          },
          "metadata": {}
        },
        {
          "output_type": "stream",
          "name": "stdout",
          "text": [
            "Nonetaş\n",
            " Bilgisar: KAĞIT\n",
            " Oyuncu: TAŞ\n",
            "\n",
            " TUR KAZANANI : BİLGİSAYAR!!\n",
            "\n",
            " SKOR;\n",
            " BİLGİSAYAR: 1 : OYUNCU: 0\n",
            "\n",
            " 2.tur\n"
          ]
        },
        {
          "output_type": "display_data",
          "data": {
            "text/plain": [
              "<IPython.core.display.HTML object>"
            ],
            "text/html": [
              "<b><p style=\"color: skyBlue;\">\n",
              " Lütfen seçiminizi giriniz(TAŞ-KAĞIT-MAKAS) veya çıkmak için 'ÇIKIŞ': </p></b>"
            ]
          },
          "metadata": {}
        },
        {
          "output_type": "stream",
          "name": "stdout",
          "text": [
            "Nonekağıt\n",
            " Bilgisar: KAĞIT\n",
            " Oyuncu: KAĞIT\n",
            "\n",
            " Durum:BERABERE! Maalesef sayı yok..\n",
            "\n",
            " SKOR;\n",
            " BİLGİSAYAR: 1 : OYUNCU: 0\n",
            "\n",
            " 3.tur\n"
          ]
        },
        {
          "output_type": "display_data",
          "data": {
            "text/plain": [
              "<IPython.core.display.HTML object>"
            ],
            "text/html": [
              "<b><p style=\"color: skyBlue;\">\n",
              " Lütfen seçiminizi giriniz(TAŞ-KAĞIT-MAKAS) veya çıkmak için 'ÇIKIŞ': </p></b>"
            ]
          },
          "metadata": {}
        },
        {
          "output_type": "stream",
          "name": "stdout",
          "text": [
            "Nonemakas\n",
            " Bilgisar: MAKAS\n",
            " Oyuncu: MAKAS\n",
            "\n",
            " Durum:BERABERE! Maalesef sayı yok..\n",
            "\n",
            " SKOR;\n",
            " BİLGİSAYAR: 1 : OYUNCU: 0\n",
            "\n",
            " 4.tur\n"
          ]
        },
        {
          "output_type": "display_data",
          "data": {
            "text/plain": [
              "<IPython.core.display.HTML object>"
            ],
            "text/html": [
              "<b><p style=\"color: skyBlue;\">\n",
              " Lütfen seçiminizi giriniz(TAŞ-KAĞIT-MAKAS) veya çıkmak için 'ÇIKIŞ': </p></b>"
            ]
          },
          "metadata": {}
        },
        {
          "output_type": "stream",
          "name": "stdout",
          "text": [
            "Nonemakas\n",
            " Bilgisar: TAŞ\n",
            " Oyuncu: MAKAS\n",
            "\n",
            " TUR KAZANANI : BİLGİSAYAR!!\n",
            "\n",
            " SKOR;\n",
            " BİLGİSAYAR: 2 : OYUNCU: 0\n"
          ]
        },
        {
          "output_type": "display_data",
          "data": {
            "text/plain": [
              "<IPython.core.display.HTML object>"
            ],
            "text/html": [
              "<b><p style=\"color: red;\">\n",
              " TÜHH! OYUNU KAYBETTİNİZ :( HADİ TEKRAR OYNAYALIM :) </p></b>"
            ]
          },
          "metadata": {}
        },
        {
          "output_type": "stream",
          "name": "stdout",
          "text": [
            "None\n",
            "\n",
            " Tekrar oynamak istiyor musunuz? (EVET / HAYIR)hayır\n",
            "\n",
            " BİLGİSAYAR: EVET ; OYUNCU: HAYIR\n",
            "\n",
            " Oyunumuz sona erdi..\n"
          ]
        }
      ],
      "source": [
        "#bilgisayar seçimlerini random yapacağı için ilk olarak random kütüphanemizi import edelim:\n",
        "import random #bilgisayara rastgele seçim ürettirmek için.\n",
        "from IPython.display import HTML, display  #projeye renk katmak için :)\n",
        "\n",
        "\n",
        "#oyunumuzun kurallarını tanımlayalım:\n",
        "oyun = \"\"\" TAŞ KAĞIT MAKAS OYUNUNA HOŞ GELDİNİZ!  </br>\n",
        "Oyun:</br>\n",
        "# Oyunumuz bilgisayara karşı oynanmaktadır.(Bilgisayar - Oyuncu) </br>\n",
        "# Temel olarak seçebileceğiniz 3 tane seçenek bulunmaktadır.(Taş,Kağıt,Makas) </br>\n",
        "# Oyunumuzun kuralı oldukça basittir;</br> Taş makası yener, Makas kağıdı yener, Kağıt taşı yener.</br>\n",
        "# Eğer bilgisayar ve oyuncu  aynı seçeneği seçerse durum berabere olacak ve herhangi bir sayı alamayacaklardır. </br>\n",
        "# Oyuncu oyundan çıkış yapmak isterse 'ÇIKIŞ' yazmalıdır.</br>\n",
        "# İlk iki turu kazanan oyunu kazanır.</br>\n",
        "# Oyun bittiğinde oyuncuların ikisine de oyuna devam edip etmeyeceği sorulacak ve ikisinde onaylaması durumunda oyun oynanmaya devam edecektir.\"\"\"\n",
        "\n",
        "print(display(HTML(f'<b><p style=\"color: Green;\">{oyun}</p></b>')))\n",
        "#fonksiyonumuzu tanımlayalım:\n",
        "def tas_kagit_makas_Meryem_Hos():\n",
        "  #önce seçeneklerimizi listeleyelim:\n",
        "  secenek_listesi = ['TAŞ','KAĞIT','MAKAS']\n",
        "  print('\\n ', display(HTML(f'<b><p style=\"color: orange ;\"> Seçenekler: {secenek_listesi}</p></b>')))\n",
        "\n",
        "  #Tanım ve Mesaj İçerikleri\n",
        "  tas=\"TAŞ\"\n",
        "  kagit =\"KAĞIT\"\n",
        "  makas =\"MAKAS\"\n",
        "  evet = \"EVET\"\n",
        "  hayir = \"HAYIR\"\n",
        "  cikis = \"ÇIKIŞ\"\n",
        "  cikis_mesaji = \"\\n Oyundan çıkış yaptınız.\"\n",
        "  gecersiz_cevap = \"\\n Hay aksi! Geçersiz bir cevap girdiniz! Lütfen tekrar deneyiniz!\"\n",
        "  tekrar_mesaji = \"\\n Tekrar oynamak istiyor musunuz? (EVET / HAYIR)\"\n",
        "  oyun_sonu = \"\\n Oyunumuz sona erdi..\"\n",
        "  oyuna_devam = \"\\n HARİKA! İki taraf da devam etmek istiyor! Oyuna devam ediyoruz..\"\n",
        "  secim = \"\\n Lütfen seçiminizi giriniz(TAŞ-KAĞIT-MAKAS) veya çıkmak için 'ÇIKIŞ': \"\n",
        "  kazanma_mesaji = \"\\n TEBRİKLER! OYUNU KAZANDINIZ :) \"\n",
        "  kaybetme_mesaji = \"\\n TÜHH! OYUNU KAYBETTİNİZ :( HADİ TEKRAR OYNAYALIM :) \"\n",
        "  berabere_mesaji = \"\\n Durum:BERABERE! Maalesef sayı yok..\"\n",
        "  bilgisayar_tur_kazama_mesaji = \"\\n TUR KAZANANI : BİLGİSAYAR!!\"\n",
        "  oyuncu_tur_kazama_mesaji = \"\\n TUR KAZANANI : OYUNCU!!\"\n",
        "\n",
        "  #oynanan oyun sayısını, bilgisayar ve oyuncu skorlarının sayaçlarını başlatalım:\n",
        "  bilgisayar_galibiyet=0\n",
        "  oyuncu_galibiyet=0\n",
        "\n",
        "  #oyunun ana döngüsü (while döngüsü):\n",
        "  while True:\n",
        "\n",
        "    #tur ve galibiyet sayaçlarının sıfırlanması:\n",
        "    bilgisayar_skor=0\n",
        "    oyuncu_skor=0\n",
        "    tur_sayisi=0\n",
        "\n",
        "    #turlar için bir döngü daha oluşturalım (iki tur kriteri için.):\n",
        "    while bilgisayar_skor < 2 and oyuncu_skor < 2 :\n",
        "      tur_sayisi += 1\n",
        "      print(f\"\\n {tur_sayisi}.tur\")\n",
        "      bilgisayar_secimi=random.choice(secenek_listesi)\n",
        "      oyuncu_secimi=input(display(HTML(f'<b><p style=\"color: skyBlue;\">{secim}</p></b>'))).upper() #.upper(): harf duyarlılığını için!\n",
        "\n",
        "      #çıkış işlemi için uyarı mesajı verdirelim:(if)\n",
        "      if (oyuncu_secimi == cikis):\n",
        "        print(cikis_mesaji)\n",
        "        return\n",
        "\n",
        "      #şimdi oyuncuların seçimlerini yazdıralım:\n",
        "      print(f\" Bilgisar: {bilgisayar_secimi}\")\n",
        "      print(f\" Oyuncu: {oyuncu_secimi}\")\n",
        "\n",
        "      #şimdi caselerimizi belirtelim:(if,elif,else)\n",
        "      if bilgisayar_secimi == oyuncu_secimi:\n",
        "        print(berabere_mesaji)\n",
        "      elif (bilgisayar_secimi == tas and oyuncu_secimi == makas) or \\\n",
        "           (bilgisayar_secimi == makas and oyuncu_secimi == kagit) or \\\n",
        "           (bilgisayar_secimi == kagit and oyuncu_secimi == tas):\n",
        "           print(bilgisayar_tur_kazama_mesaji )\n",
        "           bilgisayar_skor += 1\n",
        "      elif oyuncu_secimi in secenek_listesi :\n",
        "          print(oyuncu_tur_kazama_mesaji )\n",
        "          oyuncu_skor += 1\n",
        "      else:\n",
        "        print(gecersiz_cevap)\n",
        "        return\n",
        "\n",
        "      #oyuncularımızın seçim sonrası skorlarını gösterelim:\n",
        "      print(f\"\\n SKOR;\\n BİLGİSAYAR: {bilgisayar_skor} : OYUNCU: {oyuncu_skor}\")\n",
        "\n",
        "    #oyunun galibini belirleyelim:(if,elif,else)\n",
        "    if bilgisayar_skor > oyuncu_skor:\n",
        "      bilgisayar_galibiyet += 1\n",
        "      print(display(HTML(f'<b><p style=\"color: red;\">{kaybetme_mesaji}</p></b>')))\n",
        "    else:\n",
        "      oyuncu_galibiyet += 1\n",
        "      print(display(HTML(f'<b><p style=\"color: lightGreen;\">{kazanma_mesaji}</p></b>')))\n",
        "\n",
        "    #soralım tekrar oynamak istiyorlar mı? :\n",
        "    bilgisayar = random.choice([True,False])\n",
        "    oyuncu = input(tekrar_mesaji).upper()\n",
        "\n",
        "    #görelim ne demişler:\n",
        "    print(f\"\\n BİLGİSAYAR: { hayir if bilgisayar == False else evet } ; OYUNCU: {oyuncu}\")\n",
        "\n",
        "    #oyuna devam edilecek mi durumları:(if,else)\n",
        "    if bilgisayar == True and oyuncu == evet:\n",
        "      print(oyuna_devam)\n",
        "    elif bilgisayar == False or  oyuncu == hayir :\n",
        "      print(oyun_sonu)\n",
        "      break\n",
        "    else:\n",
        "      print(gecersiz_cevap)\n",
        "      break\n",
        "\n",
        "#fonksiyonumuzu çağırıp oyunumuzu başlatalım: İYİ EĞLENCELER..\n",
        "tas_kagit_makas_Meryem_Hos()\n"
      ]
    }
  ]
}